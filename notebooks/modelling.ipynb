{
 "cells": [
  {
   "cell_type": "code",
   "execution_count": 4,
   "id": "080ae9f3",
   "metadata": {},
   "outputs": [],
   "source": [
    "import sys\n",
    "import os\n",
    "sys.path.append(os.path.abspath(\"..\"))"
   ]
  },
  {
   "cell_type": "code",
   "execution_count": 12,
   "id": "129fd443",
   "metadata": {},
   "outputs": [],
   "source": [
    "import pandas as pd\n",
    "from sklearn.model_selection import train_test_split\n",
    "from sklearn.linear_model import LinearRegression\n",
    "from sklearn.ensemble import RandomForestRegressor\n",
    "from xgboost import XGBRegressor\n",
    "from sklearn.pipeline import Pipeline\n",
    "from sklearn.metrics import root_mean_squared_error, r2_score\n",
    "import numpy as np"
   ]
  },
  {
   "cell_type": "code",
   "execution_count": 5,
   "id": "a50d263e",
   "metadata": {},
   "outputs": [],
   "source": [
    "from src.preprocessing import build_preprocessing"
   ]
  },
  {
   "cell_type": "code",
   "execution_count": 6,
   "id": "0174ece6",
   "metadata": {},
   "outputs": [],
   "source": [
    "# load data\n",
    "df = pd.read_csv('C:/Belajar Python/house-price-prediction/data/train.csv')"
   ]
  },
  {
   "cell_type": "code",
   "execution_count": 7,
   "id": "f6804f0e",
   "metadata": {},
   "outputs": [],
   "source": [
    "# karena skewed, kita transformasi log pada target\n",
    "df['SalePrice'] = np.log1p(df['SalePrice'])"
   ]
  },
  {
   "cell_type": "code",
   "execution_count": 8,
   "id": "169f80d7",
   "metadata": {},
   "outputs": [],
   "source": [
    "# split data\n",
    "X = df.drop(columns=['SalePrice', 'Id'])\n",
    "y = df['SalePrice']\n",
    "X_train, X_test, y_train, y_test = train_test_split(X, y, test_size=0.2, random_state=42)\n"
   ]
  },
  {
   "cell_type": "code",
   "execution_count": 9,
   "id": "aee12289",
   "metadata": {},
   "outputs": [],
   "source": [
    "preprocessor = build_preprocessing(X_train)"
   ]
  },
  {
   "cell_type": "code",
   "execution_count": 13,
   "id": "2f220391",
   "metadata": {},
   "outputs": [
    {
     "name": "stdout",
     "output_type": "stream",
     "text": [
      "=== Linear Regression ===\n",
      "RMSE: 0.1281\n",
      "R²: 0.9121\n",
      "\n",
      "=== Random Forest ===\n",
      "RMSE: 0.1462\n",
      "R²: 0.8854\n",
      "\n",
      "=== XGBoost ===\n",
      "RMSE: 0.1359\n",
      "R²: 0.9011\n",
      "\n"
     ]
    }
   ],
   "source": [
    "models = {\n",
    "    'Linear Regression': LinearRegression(),\n",
    "    'Random Forest': RandomForestRegressor(n_estimators=200, random_state=42),\n",
    "    'XGBoost': XGBRegressor(n_estimators=500, learning_rate=0.05, max_depth=4, random_state=42)\n",
    "}\n",
    "\n",
    "for name, model in models.items():\n",
    "    pipe = Pipeline(steps=[('preprocessor', preprocessor),\n",
    "                           ('model', model)])\n",
    "    pipe.fit(X_train, y_train)\n",
    "    y_pred = pipe.predict(X_test)\n",
    "    \n",
    "    rmse = root_mean_squared_error(y_test, y_pred)\n",
    "    r2 = r2_score(y_test, y_pred)\n",
    "    print(f\"=== {name} ===\")\n",
    "    print(f\"RMSE: {rmse:.4f}\")\n",
    "    print(f\"R²: {r2:.4f}\\n\")"
   ]
  },
  {
   "cell_type": "markdown",
   "id": "5ab9edd1",
   "metadata": {},
   "source": [
    "## Model Terbaik  \n",
    "Linear Regression menunjukkan performa terbaik dengan:  \n",
    "RMSE terendah (0.1281) - Artinya error prediksi paling kecil  \n",
    "R² tertinggi (0.9121) - Model ini mampu menjelaskan 91.21% variasi dalam data harga rumah\n",
    "\n",
    "Tetapi semua model memiliki perbedaan RMSE antar model tidak terlalu besar, menunjukkan bahwa semua model cukup kompeten untuk tugas prediksi harga rumah ini."
   ]
  },
  {
   "cell_type": "markdown",
   "id": "93d01c9a",
   "metadata": {},
   "source": []
  }
 ],
 "metadata": {
  "kernelspec": {
   "display_name": "Python 3",
   "language": "python",
   "name": "python3"
  },
  "language_info": {
   "codemirror_mode": {
    "name": "ipython",
    "version": 3
   },
   "file_extension": ".py",
   "mimetype": "text/x-python",
   "name": "python",
   "nbconvert_exporter": "python",
   "pygments_lexer": "ipython3",
   "version": "3.12.0"
  }
 },
 "nbformat": 4,
 "nbformat_minor": 5
}
